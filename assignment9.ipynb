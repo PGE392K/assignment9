{
 "cells": [
  {
   "cell_type": "markdown",
   "metadata": {},
   "source": [
    "# Homework Assignment 9\n",
    "\n",
    "\n",
    "## Instructions\n",
    "\n",
    "Consider the reservoir shown below with the given properties that has been discretized into equal grid blocks.\n",
    "\n",
    "![image](images/grid.png)\n",
    "\n",
    "Use the class template below and inherit from your [Assignment 7](https://github.com/PGE392K/assignment7) `OneDimReservoir()` class, complete the implementation of `compute_transmissibility()` and `compute_accumulation()` such that they will compute interblock transmissiblities for grid blocks that could potentially differ in permeability, grid spacing in both the $x$ and $y$-directions and depth, as well as accumulation terms that can vary from grid block to grid block in terms of volumes and porosities. \n",
    "\n",
    "Then complete the implementation of `fill_matrices()` to account for the additional boundary conditions on the top and bottom. You may look back to [Assignment 2](https://github.com/PGE392K/assignment2) for help with the structure of the now, pentadiagonal matrix.\n",
    "\n",
    "There are now a few additional inputs such as number of grid block in the $x$ and $y$ directions. See the [test.py](test.py) file for the additional input syntax.  Your code should still pass all the old 1D test cases as a 1D reservoir is just a special case of a 2D reservoir (i.e. with only 1 grid block the $y$ direction)."
   ]
  },
  {
   "cell_type": "code",
   "execution_count": 1,
   "metadata": {
    "collapsed": true,
    "jupyter": {
     "outputs_hidden": true
    }
   },
   "outputs": [],
   "source": [
    "import numpy as np\n",
    "import scipy.sparse\n",
    "import scipy.sparse.linalg\n",
    "import matplotlib.pyplot as plt\n",
    "import yaml\n",
    "\n",
    "from assignment7 import OneDimReservoir"
   ]
  },
  {
   "cell_type": "code",
   "execution_count": 2,
   "metadata": {
    "collapsed": true,
    "jupyter": {
     "outputs_hidden": true
    }
   },
   "outputs": [],
   "source": [
    "class TwoDimReservoir(OneDimReservoir):\n",
    "    \n",
    "    # You may or may not want to call the __init__() function from OneDimensionalReservoir\n",
    "    #\n",
    "    # Be sure that the class attribute `self.N` is defined properly somewhere in the class\n",
    "\n",
    "    \n",
    "    \n",
    "    def compute_transmissibility(self, i, j):\n",
    "        '''\n",
    "            Computes the transmissibility.\n",
    "        '''\n",
    "        \n",
    "        return #transmissibility between the i and j gridblock accounting for heterogeneity.  Be sure to handle\n",
    "               #the special case when both ki = kj = 0.\n",
    "    \n",
    "    \n",
    "    \n",
    "    def compute_accumulation(self, i):\n",
    "        '''\n",
    "            Computes the accumulation.\n",
    "        '''\n",
    "        \n",
    "        return #accumulation for the i^{th} grid block\n",
    "    \n",
    "    \n",
    "    def fill_matrices(self):\n",
    "        '''\n",
    "           Assemble the transmisibility, accumulation matrices, and the flux\n",
    "           vector.  Returns sparse data-structures\n",
    "        '''\n",
    "    \n",
    "        #Make sure T and B are sparse matrices\n",
    "        #self.T =\n",
    "        #self.B =\n",
    "        #self.Q =\n",
    "        \n",
    "        return"
   ]
  },
  {
   "cell_type": "code",
   "execution_count": 3,
   "metadata": {},
   "outputs": [],
   "source": [
    "#solver = TwoDimReservoir('inputs.yml')\n",
    "#solver.solve()\n",
    "#solver.plot()"
   ]
  }
 ],
 "metadata": {
  "kernelspec": {
   "display_name": "Python 3 (ipykernel)",
   "language": "python",
   "name": "python3"
  },
  "language_info": {
   "codemirror_mode": {
    "name": "ipython",
    "version": 3
   },
   "file_extension": ".py",
   "mimetype": "text/x-python",
   "name": "python",
   "nbconvert_exporter": "python",
   "pygments_lexer": "ipython3",
   "version": "3.12.11"
  }
 },
 "nbformat": 4,
 "nbformat_minor": 4
}
